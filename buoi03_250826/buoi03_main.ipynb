{
 "cells": [
  {
   "cell_type": "markdown",
   "id": "90ff0205-a7de-496e-9734-f72f07907b51",
   "metadata": {},
   "source": [
    "# Buổi 03: Phân tích dữ liệu với Python"
   ]
  },
  {
   "cell_type": "code",
   "execution_count": 12,
   "id": "b4226588-5050-4ee2-8a2c-9d0b0ee2a748",
   "metadata": {},
   "outputs": [
    {
     "name": "stdout",
     "output_type": "stream",
     "text": [
      "COPYING     ch02.ipynb\tch06.ipynb  ch10.ipynb\tdatasets\n",
      "README.md   ch03.ipynb\tch07.ipynb  ch11.ipynb\texamples\n",
      "appa.ipynb  ch04.ipynb\tch08.ipynb  ch12.ipynb\trequirements.txt\n",
      "appb.ipynb  ch05.ipynb\tch09.ipynb  ch13.ipynb\n"
     ]
    }
   ],
   "source": [
    "# !rm -r pydata-book\n",
    "# !git clone https://github.com/wesm/pydata-book.git\n",
    "!ls pydata-book/\n",
    "# !sudo rm -r pydata-book/.git"
   ]
  },
  {
   "cell_type": "code",
   "execution_count": 19,
   "id": "b3a84a13-6362-43a4-b6c6-82706d96c94a",
   "metadata": {},
   "outputs": [
    {
     "name": "stdout",
     "output_type": "stream",
     "text": [
      "Enumerating objects: 231, done.\n",
      "Counting objects: 100% (231/231), done.\n",
      "Delta compression using up to 2 threads\n",
      "Compressing objects: 100% (221/221), done.\n",
      "Writing objects: 100% (228/228), 63.25 MiB | 6.77 MiB/s, done.\n",
      "Total 228 (delta 23), reused 0 (delta 0), pack-reused 0 (from 0)\n",
      "remote: Resolving deltas: 100% (23/23), completed with 3 local objects.\u001b[K\n",
      "remote: \u001b[1;31merror\u001b[m: Trace: cf17bef7eebb9b83926848bc2487cf61ea6e7704261f3a606d23b17c93a3f779\u001b[K\n",
      "remote: \u001b[1;31merror\u001b[m: See https://gh.io/lfs for more information.\u001b[K\n",
      "remote: \u001b[1;31merror\u001b[m: File buoi03_250826/pydata-book/datasets/fec/P00000001-ALL.csv is 150.56 MB; this exceeds GitHub's file size limit of 100.00 MB\u001b[K\n",
      "remote: \u001b[1;31merror\u001b[m: GH001: Large files detected. You may want to try Git Large File Storage - https://git-lfs.github.com.\u001b[K\n",
      "To https://github.com/oanhnguyen31231025531-droid/ueh25-ktlt-eco\n",
      " \u001b[31m! [remote rejected]\u001b[m main -> main (pre-receive hook declined)\n",
      "\u001b[31merror: failed to push some refs to 'https://github.com/oanhnguyen31231025531-droid/ueh25-ktlt-eco'\n",
      "\u001b[m"
     ]
    }
   ],
   "source": [
    "# !git status\n",
    "# !git add . -n\n",
    "# !git add .\n",
    "# !git commit -m \"buoi03\"\n",
    "# !git push\n",
    "# !git status\n",
    "# !git push --force\n",
    "# !git reset HEAD~"
   ]
  },
  {
   "cell_type": "code",
   "execution_count": 21,
   "id": "36b9d039-fd53-4010-80a6-02827917f7a6",
   "metadata": {},
   "outputs": [
    {
     "name": "stdout",
     "output_type": "stream",
     "text": [
      "Unstaged changes after reset:\n",
      "M\t[BT] 03 - EDA-Python/[Tutorial] EDA-Python.ipynb\n"
     ]
    }
   ],
   "source": [
    "!git reset HEAD~"
   ]
  },
  {
   "cell_type": "markdown",
   "id": "1ba16972-233b-4086-8d2d-560fcdbe1ada",
   "metadata": {},
   "source": [
    "## Kết thúc"
   ]
  }
 ],
 "metadata": {
  "kernelspec": {
   "display_name": "Python 3 (ipykernel)",
   "language": "python",
   "name": "python3"
  },
  "language_info": {
   "codemirror_mode": {
    "name": "ipython",
    "version": 3
   },
   "file_extension": ".py",
   "mimetype": "text/x-python",
   "name": "python",
   "nbconvert_exporter": "python",
   "pygments_lexer": "ipython3",
   "version": "3.12.1"
  }
 },
 "nbformat": 4,
 "nbformat_minor": 5
}
