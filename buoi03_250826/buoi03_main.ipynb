{
 "cells": [
  {
   "cell_type": "markdown",
   "id": "90ff0205-a7de-496e-9734-f72f07907b51",
   "metadata": {},
   "source": [
    "# Buổi 03: Phân tích dữ liệu với Python"
   ]
  },
  {
   "cell_type": "code",
   "execution_count": 12,
   "id": "b4226588-5050-4ee2-8a2c-9d0b0ee2a748",
   "metadata": {},
   "outputs": [
    {
     "name": "stdout",
     "output_type": "stream",
     "text": [
      "COPYING     ch02.ipynb\tch06.ipynb  ch10.ipynb\tdatasets\n",
      "README.md   ch03.ipynb\tch07.ipynb  ch11.ipynb\texamples\n",
      "appa.ipynb  ch04.ipynb\tch08.ipynb  ch12.ipynb\trequirements.txt\n",
      "appb.ipynb  ch05.ipynb\tch09.ipynb  ch13.ipynb\n"
     ]
    }
   ],
   "source": [
    "# !rm -r pydata-book\n",
    "# !git clone https://github.com/wesm/pydata-book.git\n",
    "!ls pydata-book/\n",
    "# !sudo rm -r pydata-book/.git"
   ]
  },
  {
   "cell_type": "code",
   "execution_count": 28,
   "id": "b3a84a13-6362-43a4-b6c6-82706d96c94a",
   "metadata": {},
   "outputs": [],
   "source": [
    "# !git status\n",
    "# !git add . -n\n",
    "# !git add .\n",
    "# !git commit -m \"buoi03\"\n",
    "# !git push\n",
    "# !git status\n",
    "# !git push --force # ép phải commit (nếu xảy ra xung đột)\n",
    "# !git reset HEAD~  # phục hồi lại trạng thái commit gần nhất\n",
    "\n",
    "# !git add .\n",
    "# !git commit -m \"buoi03\"\n",
    "# !git push"
   ]
  },
  {
   "cell_type": "code",
   "execution_count": 32,
   "id": "26232dab-871a-4e2a-b4f8-371cf3cd6a9b",
   "metadata": {},
   "outputs": [],
   "source": [
    "# !ls\n",
    "# !mv pydata-book/ ../\n",
    "# !git add . -n\n",
    "# !git add .\n",
    "# !git commit -m \"buoi03\"\n",
    "# !git push"
   ]
  },
  {
   "cell_type": "code",
   "execution_count": 36,
   "id": "b5f5163f-648b-4f16-9506-488f43e0fb62",
   "metadata": {},
   "outputs": [
    {
     "name": "stdout",
     "output_type": "stream",
     "text": [
      "[1, 2, 3, 4, 5]\n",
      "[1, 2, 3, 4, 5, 1, 2, 3, 4, 5]\n"
     ]
    }
   ],
   "source": [
    "v = list(range(1, 6))\n",
    "print(v)\n",
    "print(2 * v)"
   ]
  },
  {
   "cell_type": "code",
   "execution_count": 38,
   "id": "d61d3019-1442-47eb-887d-9408ed71a10d",
   "metadata": {},
   "outputs": [
    {
     "name": "stdout",
     "output_type": "stream",
     "text": [
      "[1 2 3 4 5]\n",
      "[ 2  4  6  8 10]\n"
     ]
    }
   ],
   "source": [
    "import numpy as np\n",
    "v = np.arange(1, 6)\n",
    "print(v)\n",
    "print(2 * v)"
   ]
  },
  {
   "cell_type": "code",
   "execution_count": 40,
   "id": "6f0b095c-b718-4008-bcad-4e5eb93b3243",
   "metadata": {},
   "outputs": [],
   "source": [
    "fruits = [\"apple\", \"banana\", \"cherry\"] #lists []\n",
    "colors = (\"red\", \"green\", \"blue\") #tuples ()\n",
    "animals = {'cat', 'dog'} #sets {}\n",
    "person = {\"name\" : \"Tom\", \"age\" : 20} #dictionaries {}"
   ]
  },
  {
   "cell_type": "code",
   "execution_count": 42,
   "id": "eea6afda-4dce-4065-8090-579b84e006d5",
   "metadata": {},
   "outputs": [
    {
     "name": "stdout",
     "output_type": "stream",
     "text": [
      "4\n",
      "60\n",
      "70\n",
      "90\n"
     ]
    }
   ],
   "source": [
    "x = [60, 70, 80, 90]\n",
    "print(len(x))\n",
    "print(x[0])\n",
    "print(x[1])\n",
    "print(x[-1])"
   ]
  },
  {
   "cell_type": "code",
   "execution_count": 46,
   "id": "a73821f7-a5cc-445e-b555-f9b10657408a",
   "metadata": {},
   "outputs": [
    {
     "name": "stdout",
     "output_type": "stream",
     "text": [
      "[1 2 3]\n",
      "[4 5 6]\n",
      "[ 4 10 18]\n"
     ]
    }
   ],
   "source": [
    "import numpy as np\n",
    "a = np.array([1, 2, 3])\n",
    "b = np.array([4, 5, 6])\n",
    "c = a * b\n",
    "print(a)\n",
    "print(b)\n",
    "print(c)"
   ]
  },
  {
   "cell_type": "code",
   "execution_count": 2,
   "id": "339609eb-1292-4e51-9f3d-264e0c213ca1",
   "metadata": {},
   "outputs": [
    {
     "name": "stdout",
     "output_type": "stream",
     "text": [
      "Mảng toàn số 0:\n",
      " [[0. 0. 0. 0. 0.]\n",
      " [0. 0. 0. 0. 0.]\n",
      " [0. 0. 0. 0. 0.]\n",
      " [0. 0. 0. 0. 0.]\n",
      " [0. 0. 0. 0. 0.]]\n",
      "Mảng toàn số 1:\n",
      " [[1. 1.]]\n",
      "Mảng toàn số 7:\n",
      " [[7 7]\n",
      " [7 7]]\n",
      "Ma trận đơn vị:\n",
      " [[1. 0.]\n",
      " [0. 1.]]\n",
      "Mảng ngẫu nhiên:\n",
      " [[0.58733915 0.73928744]\n",
      " [0.74592243 0.26530296]]\n"
     ]
    }
   ],
   "source": [
    "import numpy as np\n",
    "\n",
    "# Tạo mảng toàn số 0\n",
    "a = np.zeros((5, 5))\n",
    "print(\"Mảng toàn số 0:\\n\", a)\n",
    "\n",
    "# Tạo mảng toàn số 1\n",
    "b = np.ones((1, 2))\n",
    "print(\"Mảng toàn số 1:\\n\", b)\n",
    "\n",
    "# Tạo mảng với giá trị cố định là 7\n",
    "c = np.full((2, 2), 7)\n",
    "print(\"Mảng toàn số 7:\\n\", c)\n",
    "\n",
    "# Tạo ma trận đơn vị 2x2\n",
    "d = np.eye(2)\n",
    "print(\"Ma trận đơn vị:\\n\", d)\n",
    "\n",
    "# Tạo mảng với giá trị ngẫu nhiên từ 0 đến 1\n",
    "e = np.random.random((2, 2))\n",
    "print(\"Mảng ngẫu nhiên:\\n\", e)\n"
   ]
  },
  {
   "cell_type": "code",
   "execution_count": 11,
   "id": "56ad228d-8bbc-476d-9fd1-835bb880a04e",
   "metadata": {},
   "outputs": [
    {
     "name": "stdout",
     "output_type": "stream",
     "text": [
      "[ 0  1  2  3  4  5  6  7  8  9 10 11 12 13 14]\n",
      "(15,)\n",
      "1\n",
      "int64\n",
      "[[ 0  1  2  3  4]\n",
      " [ 5  6  7  8  9]\n",
      " [10 11 12 13 14]]\n",
      "(3, 5)\n",
      "2\n",
      "int64\n"
     ]
    }
   ],
   "source": [
    "import numpy as np\n",
    "a = np.arange(15)\n",
    "print(a)\n",
    "print(a.shape)\n",
    "print(a.ndim)\n",
    "print(a.dtype)\n",
    "\n",
    "a = a.reshape(3,5)\n",
    "print(a)\n",
    "print(a.shape)\n",
    "print(a.ndim)\n",
    "print(a.dtype)"
   ]
  },
  {
   "cell_type": "code",
   "execution_count": 14,
   "id": "b50da432-0984-4200-aa42-5906925e29de",
   "metadata": {},
   "outputs": [
    {
     "name": "stdout",
     "output_type": "stream",
     "text": [
      "[1 2 3 4 5]\n"
     ]
    }
   ],
   "source": [
    "import numpy as np\n",
    "a = np.array([1,2,3,4,5])\n",
    "print(a)"
   ]
  },
  {
   "cell_type": "code",
   "execution_count": 17,
   "id": "548e67b0-7846-4b3d-aa5a-57ebdf57dda9",
   "metadata": {},
   "outputs": [
    {
     "name": "stdout",
     "output_type": "stream",
     "text": [
      "[[ 1  2  3  4  5]\n",
      " [ 6  7  8  9 10]\n",
      " [11 12 13 14 15]\n",
      " [16 17 18 19 20]]\n"
     ]
    }
   ],
   "source": [
    "b = np.array([\n",
    "    [1,2,3,4,5],\n",
    "    [6,7,8,9,10],\n",
    "    [11,12,13,14,15],\n",
    "    [16,17,18,19,20]\n",
    "])\n",
    "print(b)"
   ]
  },
  {
   "cell_type": "code",
   "execution_count": 22,
   "id": "b2778180-a39d-4101-a045-a1d4b9faed21",
   "metadata": {},
   "outputs": [
    {
     "name": "stdout",
     "output_type": "stream",
     "text": [
      "[[ 0  1  2  3]\n",
      " [10 11 12 13]\n",
      " [20 21 22 23]]\n",
      "2\n",
      "(3, 4)\n",
      "int64\n"
     ]
    }
   ],
   "source": [
    "b = np.array([\n",
    "    [0,1,2,3],\n",
    "    [10,11,12,13],\n",
    "    [20,21,22,23],\n",
    "])\n",
    "print(b)\n",
    "print(b.ndim)\n",
    "print(b.shape)\n",
    "print(b.dtype)"
   ]
  },
  {
   "cell_type": "code",
   "execution_count": 26,
   "id": "0abd2e58-d7cb-4288-a951-6628ff5a882e",
   "metadata": {},
   "outputs": [
    {
     "name": "stdout",
     "output_type": "stream",
     "text": [
      "[[0 1 2]\n",
      " [3 4 5]\n",
      " [6 7 8]]\n",
      "[[1 2]\n",
      " [4 5]] (2, 2)\n"
     ]
    }
   ],
   "source": [
    "a = np.arange(9).reshape(3,3)\n",
    "print(a)\n",
    "print(a[:2,1:], a[:2,1:].shape)"
   ]
  },
  {
   "cell_type": "markdown",
   "id": "1ba16972-233b-4086-8d2d-560fcdbe1ada",
   "metadata": {},
   "source": [
    "## Kết thúc"
   ]
  }
 ],
 "metadata": {
  "kernelspec": {
   "display_name": "Python 3 (ipykernel)",
   "language": "python",
   "name": "python3"
  },
  "language_info": {
   "codemirror_mode": {
    "name": "ipython",
    "version": 3
   },
   "file_extension": ".py",
   "mimetype": "text/x-python",
   "name": "python",
   "nbconvert_exporter": "python",
   "pygments_lexer": "ipython3",
   "version": "3.12.1"
  }
 },
 "nbformat": 4,
 "nbformat_minor": 5
}
