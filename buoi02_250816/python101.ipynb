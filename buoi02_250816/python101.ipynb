{
  "nbformat": 4,
  "nbformat_minor": 0,
  "metadata": {
    "colab": {
      "provenance": [],
      "authorship_tag": "ABX9TyMKIzmstEiBH1a9gMH3mulO",
      "include_colab_link": true
    },
    "kernelspec": {
      "name": "python3",
      "display_name": "Python 3"
    },
    "language_info": {
      "name": "python"
    }
  },
  "cells": [
    {
      "cell_type": "markdown",
      "metadata": {
        "id": "view-in-github",
        "colab_type": "text"
      },
      "source": [
        "<a href=\"https://colab.research.google.com/github/oanhnguyen31231025531-droid/ueh25-ktlt-eco/blob/main/buoi02_250816/python101.ipynb\" target=\"_parent\"><img src=\"https://colab.research.google.com/assets/colab-badge.svg\" alt=\"Open In Colab\"/></a>"
      ]
    },
    {
      "cell_type": "markdown",
      "source": [
        "Ngôn ngữ Python"
      ],
      "metadata": {
        "id": "I_nAOjTYxeu0"
      }
    },
    {
      "cell_type": "code",
      "execution_count": null,
      "metadata": {
        "colab": {
          "base_uri": "https://localhost:8080/"
        },
        "id": "DHg5ajrYnr1P",
        "outputId": "0021d211-8307-4e56-ee3f-55a38b17aa4d"
      },
      "outputs": [
        {
          "output_type": "stream",
          "name": "stdout",
          "text": [
            "Hello, World\n"
          ]
        }
      ],
      "source": [
        "print(\"Hello, World\")"
      ]
    },
    {
      "cell_type": "code",
      "source": [
        "score = 80\n",
        "if score >= 60:\n",
        "  print (\"pass\")"
      ],
      "metadata": {
        "colab": {
          "base_uri": "https://localhost:8080/"
        },
        "id": "TmoAkPMYoyyG",
        "outputId": "45df7375-ec6b-41c1-8bb6-1178455b652c"
      },
      "execution_count": null,
      "outputs": [
        {
          "output_type": "stream",
          "name": "stdout",
          "text": [
            "pass\n"
          ]
        }
      ]
    },
    {
      "cell_type": "code",
      "source": [
        "# Python variables\n",
        "x = 2\n",
        "price = 2.5\n",
        "word = 'Hello'\n",
        "\n",
        "word = 'Hello'\n",
        "word = \"Hello\"\n",
        "word = '''Hello'''\n",
        "print (x, price, word)\n",
        "print (f'x = {x, type(x)}, price = (price, type (price))}, word = {word, type (word)}"
      ],
      "metadata": {
        "colab": {
          "base_uri": "https://localhost:8080/",
          "height": 106
        },
        "id": "Eq-iCLDApDaB",
        "outputId": "35f2553f-7681-4715-f857-a0758ff71ff6"
      },
      "execution_count": null,
      "outputs": [
        {
          "output_type": "error",
          "ename": "SyntaxError",
          "evalue": "unterminated string literal (detected at line 10) (ipython-input-3942866787.py, line 10)",
          "traceback": [
            "\u001b[0;36m  File \u001b[0;32m\"/tmp/ipython-input-3942866787.py\"\u001b[0;36m, line \u001b[0;32m10\u001b[0m\n\u001b[0;31m    print (f'x = {x, type(x)}, price = (price, type (price))}, word = {word, type (word)}\u001b[0m\n\u001b[0m           ^\u001b[0m\n\u001b[0;31mSyntaxError\u001b[0m\u001b[0;31m:\u001b[0m unterminated string literal (detected at line 10)\n"
          ]
        }
      ]
    },
    {
      "cell_type": "code",
      "source": [
        "x = ['apple', 'banana', 'cherry']\n",
        "x.append ('hello')\n",
        "print (x, type (x), x [1:3])\n",
        "\n",
        "x= ('apple', 'banana', 'cherry') # immutable\n",
        "# x.append ('hello')\n",
        "print (x, type (x), x [1:3])\n",
        "\n",
        "x = {'name': 'Tome', 'age':20} #dictionary\n",
        "print (x, type (x), x ['name'], x['age'])\n",
        "\n",
        "x = {'apple', 'banana', 'cherry'} #set\n",
        "x.add ('hello')\n",
        "print (x, type (x))\n",
        "\n",
        "x = frozenset({'apple', 'banana', 'cherry'}) #frozenset\n",
        "print (x, type (x))"
      ],
      "metadata": {
        "colab": {
          "base_uri": "https://localhost:8080/"
        },
        "id": "jqoynodCrHgS",
        "outputId": "d6cbdba8-73f6-4398-ffa3-43139d77c950"
      },
      "execution_count": null,
      "outputs": [
        {
          "output_type": "stream",
          "name": "stdout",
          "text": [
            "['apple', 'banana', 'cherry', 'hello'] <class 'list'> ['banana', 'cherry']\n",
            "('apple', 'banana', 'cherry') <class 'tuple'> ('banana', 'cherry')\n",
            "{'name': 'Tome', 'age': 20} <class 'dict'> Tome 20\n",
            "{'banana', 'cherry', 'hello', 'apple'} <class 'set'>\n",
            "frozenset({'banana', 'cherry', 'apple'}) <class 'frozenset'>\n"
          ]
        }
      ]
    },
    {
      "cell_type": "code",
      "source": [
        "#List\n",
        "x = [60, 70, 80, 90]\n",
        "print(len(x))\n",
        "print(x[0])\n",
        "print(x[1])\n",
        "print(x[-1])"
      ],
      "metadata": {
        "colab": {
          "base_uri": "https://localhost:8080/"
        },
        "id": "225PdMxfyMJ7",
        "outputId": "81c07d7a-cba7-4ca2-bb8f-e0f4fefc2b30"
      },
      "execution_count": null,
      "outputs": [
        {
          "output_type": "stream",
          "name": "stdout",
          "text": [
            "4\n",
            "60\n",
            "70\n",
            "90\n"
          ]
        }
      ]
    },
    {
      "cell_type": "code",
      "source": [
        "#tuple\n",
        "x = (10, 20, 30, 40, 50)\n",
        "print(len(x))\n",
        "print(x[0])\n",
        "print(x[1])\n",
        "print(x[-1])\n",
        "# x = [0] = 50 #error"
      ],
      "metadata": {
        "colab": {
          "base_uri": "https://localhost:8080/"
        },
        "id": "CZg6PnLGysPp",
        "outputId": "7d71707c-54e3-4d92-ad6a-91f6fcaf528e"
      },
      "execution_count": null,
      "outputs": [
        {
          "output_type": "stream",
          "name": "stdout",
          "text": [
            "5\n",
            "10\n",
            "20\n",
            "50\n"
          ]
        }
      ]
    },
    {
      "cell_type": "code",
      "source": [
        "animals = {'cat', 'dog'}\n",
        "print('cat' in animals)\n",
        "print('fish' in animals)\n",
        "animals.add('fish')\n",
        "print('fish' in animals)\n",
        "print(len(animals))\n",
        "animals.add('cat')\n",
        "print(len(animals))\n",
        "animals.remove('cat')\n",
        "print(len(animals))"
      ],
      "metadata": {
        "colab": {
          "base_uri": "https://localhost:8080/"
        },
        "id": "g7AM6DP7y6O7",
        "outputId": "ee79be19-2f89-4de9-cb10-331ddfb774db"
      },
      "execution_count": null,
      "outputs": [
        {
          "output_type": "stream",
          "name": "stdout",
          "text": [
            "True\n",
            "False\n",
            "True\n",
            "3\n",
            "3\n",
            "2\n"
          ]
        }
      ]
    },
    {
      "cell_type": "code",
      "source": [
        "#dictionary\n",
        "k = {'EN': 'English', 'FR':'French',}\n",
        "print(k['EN'])\n",
        "print(k['FR'])"
      ],
      "metadata": {
        "colab": {
          "base_uri": "https://localhost:8080/"
        },
        "id": "pm0p_A34zvDU",
        "outputId": "40c3dbea-fce0-4e35-a363-48bf863c38b3"
      },
      "execution_count": null,
      "outputs": [
        {
          "output_type": "stream",
          "name": "stdout",
          "text": [
            "English\n",
            "French\n"
          ]
        }
      ]
    },
    {
      "cell_type": "code",
      "source": [
        "#data types\n",
        "fruits = ['apple', 'banana', 'cherry'] #list []\n",
        "colors = ('red', 'green', 'blue') #tuple ()\n",
        "animals = {'cat', 'dog', 'fish'} #set {}\n",
        "person = {'name': 'John', 'age': 30} #dictionary {}\n"
      ],
      "metadata": {
        "id": "NZiy9ED00BBL"
      },
      "execution_count": null,
      "outputs": []
    },
    {
      "cell_type": "code",
      "source": [
        "#lists\n",
        "expenses = [72.5, 80.75, 50.0, 90.25]\n",
        "total_expenses = sum(expenses)\n",
        "print(total_expenses)"
      ],
      "metadata": {
        "colab": {
          "base_uri": "https://localhost:8080/"
        },
        "id": "KAdbj5zM0axW",
        "outputId": "c2afadf9-3939-4f53-e863-2d4a5beeb94a"
      },
      "execution_count": null,
      "outputs": [
        {
          "output_type": "stream",
          "name": "stdout",
          "text": [
            "293.5\n"
          ]
        }
      ]
    },
    {
      "cell_type": "code",
      "source": [
        "# tuples\n",
        "accounts = (('Cash', 1001), ('Accounts Receivable', 1002), ('Inventory', 1003))\n",
        "for account in accounts:\n",
        "  print('Account Name:', account[0], 'Account Number:', account[1])"
      ],
      "metadata": {
        "colab": {
          "base_uri": "https://localhost:8080/"
        },
        "id": "Fxjp9hrQ0pIC",
        "outputId": "1c0230b8-a016-4858-ea7f-663815c69541"
      },
      "execution_count": null,
      "outputs": [
        {
          "output_type": "stream",
          "name": "stdout",
          "text": [
            "Account Name: Cash Account Number: 1001\n",
            "Account Name: Accounts Receivable Account Number: 1002\n",
            "Account Name: Inventory Account Number: 1003\n"
          ]
        }
      ]
    },
    {
      "cell_type": "code",
      "source": [
        "#set\n",
        "account_numbers = set([acc[1] for acc in accounts]) #set comprehensive\n",
        "print(account_numbers)\n",
        "new_acc_number = 1004\n",
        "if new_acc_number not in account_numbers:\n",
        "print(f'Account number {new_acc_number} is not in use.')"
      ],
      "metadata": {
        "colab": {
          "base_uri": "https://localhost:8080/",
          "height": 106
        },
        "id": "SrJCWFTk1M68",
        "outputId": "d5f68d10-b839-41cc-8ca6-3dd6b2d2b462"
      },
      "execution_count": null,
      "outputs": [
        {
          "output_type": "error",
          "ename": "IndentationError",
          "evalue": "expected an indented block after 'if' statement on line 5 (ipython-input-2626070111.py, line 6)",
          "traceback": [
            "\u001b[0;36m  File \u001b[0;32m\"/tmp/ipython-input-2626070111.py\"\u001b[0;36m, line \u001b[0;32m6\u001b[0m\n\u001b[0;31m    print(f'account number {new_acc_number} is not in use.')\u001b[0m\n\u001b[0m    ^\u001b[0m\n\u001b[0;31mIndentationError\u001b[0m\u001b[0;31m:\u001b[0m expected an indented block after 'if' statement on line 5\n"
          ]
        }
      ]
    },
    {
      "cell_type": "code",
      "source": [
        "#dcitionary\n",
        "accounts = {\n",
        "    \"1001\" : {\"name\": \"Cashe\", \"balance\": 500.0, \"type\": \"Asset\"},\n",
        "    \"1002\" : {\"name\": \"Accounts Receivable\", \"balance\": 1000.0, \"type\": \"Asset\"},\n",
        "    \"1003\" : {\"name\": \"Account Payable\", \"balance\": 750.0, \"type\": \"Liability\"},\n",
        "}\n",
        "for acc_num, acc_info in accounts.items():\n",
        "  print('-'*50)\n",
        "  print(f'Account Number: {acc_num}')\n",
        "\n",
        "  print(f'Account Type: {acc_info[\"type\"]}')\n",
        "  print(f'Account Name: {acc_info[\"name\"]}')\n",
        "  print(f'Account Balance: {acc_info[\"balance\"]}')"
      ],
      "metadata": {
        "colab": {
          "base_uri": "https://localhost:8080/"
        },
        "id": "Q7cfFlfh2bDS",
        "outputId": "bdd4e8ac-8239-4034-fe30-ca5508b8db7e"
      },
      "execution_count": null,
      "outputs": [
        {
          "output_type": "stream",
          "name": "stdout",
          "text": [
            "--------------------------------------------------\n",
            "Account Number: 1001\n",
            "Account Type: Asset\n",
            "Account Name: Cashe\n",
            "Account Balance: 500.0\n",
            "--------------------------------------------------\n",
            "Account Number: 1002\n",
            "Account Type: Asset\n",
            "Account Name: Accounts Receivable\n",
            "Account Balance: 1000.0\n",
            "--------------------------------------------------\n",
            "Account Number: 1003\n",
            "Account Type: Liability\n",
            "Account Name: Account Payable\n",
            "Account Balance: 750.0\n"
          ]
        }
      ]
    },
    {
      "cell_type": "code",
      "source": [
        "x = True\n",
        "print (x, type (x))\n",
        "\n",
        "x = b'Hello' #bytes\n",
        "print (x, type (x))\n",
        "\n",
        "x = bytearray(5) #bytearray\n",
        "print (x, type (x))\n",
        "\n",
        "x = memoryview(bytes(5)) #memoryview\n",
        "print (x, type (x), hex(id(x)))\n",
        "\n",
        "\n",
        "x = None #NoneType\n",
        "print (x, type (x))"
      ],
      "metadata": {
        "colab": {
          "base_uri": "https://localhost:8080/"
        },
        "id": "xTNi24BLrfJl",
        "outputId": "4cab62bb-8b1b-439c-b3b6-315a2d8af7d1"
      },
      "execution_count": null,
      "outputs": [
        {
          "output_type": "stream",
          "name": "stdout",
          "text": [
            "True <class 'bool'>\n",
            "b'Hello' <class 'bytes'>\n",
            "bytearray(b'\\x00\\x00\\x00\\x00\\x00') <class 'bytearray'>\n",
            "<memory at 0x7b92a9372200> <class 'memoryview'> 0x7b92a9372200\n",
            "None <class 'NoneType'>\n"
          ]
        }
      ]
    },
    {
      "cell_type": "code",
      "source": [
        "#casting\n",
        "x = str(3)\n",
        "y = int (4.3)\n",
        "z = float (3)\n",
        "\n",
        "print(x,type(x))\n",
        "print(y,type(y))\n",
        "print(z,type(z))"
      ],
      "metadata": {
        "colab": {
          "base_uri": "https://localhost:8080/"
        },
        "id": "oEJBkkdZtqd3",
        "outputId": "60651f86-9f51-44b8-f772-6b493e0ad5ce"
      },
      "execution_count": null,
      "outputs": [
        {
          "output_type": "stream",
          "name": "stdout",
          "text": [
            "3 <class 'str'>\n",
            "4 <class 'int'>\n",
            "3.0 <class 'float'>\n"
          ]
        }
      ]
    },
    {
      "cell_type": "code",
      "source": [
        "#numbers\n",
        "x = 2\n",
        "print(x, type(x))\n",
        "\n",
        "y = 3.4\n",
        "print(y,type(y))\n",
        "\n",
        "z = 7j + 3.5\n",
        "print(z, type(z))"
      ],
      "metadata": {
        "colab": {
          "base_uri": "https://localhost:8080/"
        },
        "id": "_o4opgRmuAJn",
        "outputId": "a28f59c0-376e-45bf-e672-2764c9b8a704"
      },
      "execution_count": null,
      "outputs": [
        {
          "output_type": "stream",
          "name": "stdout",
          "text": [
            "2 <class 'int'>\n",
            "3.4 <class 'float'>\n",
            "(3.5+7j) <class 'complex'>\n"
          ]
        }
      ]
    },
    {
      "cell_type": "code",
      "source": [
        "#operator\n",
        "print(7 + 2)\n",
        "print(7 - 2)\n",
        "print(7 * 2)\n",
        "print(7 / 2)\n",
        "print(7 % 2)\n",
        "print(7 ** 2)\n",
        "print(7 // 2)"
      ],
      "metadata": {
        "colab": {
          "base_uri": "https://localhost:8080/"
        },
        "id": "bf-xXW6YuWUL",
        "outputId": "fbb7745c-f55e-464c-cd03-339206918eba"
      },
      "execution_count": null,
      "outputs": [
        {
          "output_type": "stream",
          "name": "stdout",
          "text": [
            "9\n",
            "5\n",
            "14\n",
            "3.5\n",
            "1\n",
            "49\n",
            "3\n"
          ]
        }
      ]
    },
    {
      "cell_type": "code",
      "source": [
        "#comparison\n",
        "print(3 > 2)\n",
        "print(3 < 2)\n",
        "print(3 == 2)\n",
        "print(3 != 2)\n",
        "print(3 >= 2)\n",
        "print(3 <= 2)"
      ],
      "metadata": {
        "colab": {
          "base_uri": "https://localhost:8080/"
        },
        "id": "ZFIjy_fTuu4w",
        "outputId": "5239ca8a-7f2f-4388-d6a9-b932c3155793"
      },
      "execution_count": null,
      "outputs": [
        {
          "output_type": "stream",
          "name": "stdout",
          "text": [
            "True\n",
            "False\n",
            "False\n",
            "True\n",
            "True\n",
            "False\n"
          ]
        }
      ]
    },
    {
      "cell_type": "code",
      "source": [
        "#bmi\n",
        "#input\n",
        "height_cm = 155\n",
        "weight_kg = 53\n",
        "\n",
        "#process\n",
        "bmi = weight_kg / (height_cm / 100) ** 2\n",
        "print ('your bmi is', round(bmi,2) )"
      ],
      "metadata": {
        "colab": {
          "base_uri": "https://localhost:8080/"
        },
        "id": "kVGAUWKku3Nm",
        "outputId": "eead6323-9857-4811-ae91-b58793f68e36"
      },
      "execution_count": null,
      "outputs": [
        {
          "output_type": "stream",
          "name": "stdout",
          "text": [
            "your bmi is 22.06\n"
          ]
        }
      ]
    },
    {
      "cell_type": "code",
      "source": [
        "#$100 sau 7 nam\n",
        "fv = 100 * (1+0.1)**7\n",
        "print('fv', round(fv,2))"
      ],
      "metadata": {
        "colab": {
          "base_uri": "https://localhost:8080/"
        },
        "id": "swuV61ggvdJn",
        "outputId": "9fa019f7-76ae-44e4-c20b-0d5816c6a0d5"
      },
      "execution_count": null,
      "outputs": [
        {
          "output_type": "stream",
          "name": "stdout",
          "text": [
            "fv 194.87\n"
          ]
        }
      ]
    },
    {
      "cell_type": "code",
      "source": [
        "#input\n",
        "pv = 100\n",
        "r = 0.1\n",
        "n = 7\n",
        "\n",
        "#process\n",
        "fv = pv * (1+r)**n\n",
        "print('fv = ', round(fv,2))"
      ],
      "metadata": {
        "colab": {
          "base_uri": "https://localhost:8080/"
        },
        "id": "e6gC-CRuvx36",
        "outputId": "8f544fd3-2b25-4b6b-a20c-90a16b6dc58c"
      },
      "execution_count": null,
      "outputs": [
        {
          "output_type": "stream",
          "name": "stdout",
          "text": [
            "fv =  194.87\n"
          ]
        }
      ]
    },
    {
      "cell_type": "code",
      "source": [],
      "metadata": {
        "id": "6-9kOBpm4Nrt"
      },
      "execution_count": null,
      "outputs": []
    },
    {
      "cell_type": "code",
      "source": [
        "#input\n",
        "amount = 100\n",
        "interest = 10 #10%\n",
        "years = 7\n",
        "\n",
        "#process\n",
        "future_value = amount * (1 + interest / 100) ** years\n",
        "\n",
        "#output\n",
        "print('future value = ', round(future_value, 2)\n"
      ],
      "metadata": {
        "colab": {
          "base_uri": "https://localhost:8080/"
        },
        "id": "QknMtgb_wDUs",
        "outputId": "46b1d4c5-7c2a-4443-894e-f1d506ac9c84"
      },
      "execution_count": null,
      "outputs": [
        {
          "output_type": "stream",
          "name": "stdout",
          "text": [
            "future value =  194.87\n"
          ]
        }
      ]
    },
    {
      "cell_type": "code",
      "source": [
        "#CONTROL LOGIC & LOOPS\n",
        "#if\n",
        "score = 80\n",
        "if score >= 60:\n",
        "  print ('Pass')\n",
        "else:\n",
        "  print ('Fail')"
      ],
      "metadata": {
        "colab": {
          "base_uri": "https://localhost:8080/"
        },
        "id": "eH7-KXmt4Qs1",
        "outputId": "0d95650e-b0e6-490d-f5e6-e46b23bacdc8"
      },
      "execution_count": null,
      "outputs": [
        {
          "output_type": "stream",
          "name": "stdout",
          "text": [
            "Pass\n"
          ]
        }
      ]
    },
    {
      "cell_type": "code",
      "source": [
        "#loop\n",
        "for i in range (1, 6):\n",
        "  print(i, end = '')"
      ],
      "metadata": {
        "colab": {
          "base_uri": "https://localhost:8080/"
        },
        "id": "JQ5QirbM5fVz",
        "outputId": "0d1aa124-500c-4012-ce79-9a70481543ea"
      },
      "execution_count": null,
      "outputs": [
        {
          "output_type": "stream",
          "name": "stdout",
          "text": [
            "12345"
          ]
        }
      ]
    },
    {
      "cell_type": "code",
      "source": [
        "#2 loop\n",
        "for i in range (1, 10):\n",
        "  for j in range (1, 10):\n",
        "    print(f'{i} * {j} = {i*j}')\n",
        "  print ('-'*50)"
      ],
      "metadata": {
        "colab": {
          "base_uri": "https://localhost:8080/"
        },
        "id": "y4stL1F36d4E",
        "outputId": "09d38770-2ba2-4b6f-cc49-4cf74a087ee3"
      },
      "execution_count": null,
      "outputs": [
        {
          "output_type": "stream",
          "name": "stdout",
          "text": [
            "1 * 1 = 1\n",
            "1 * 2 = 2\n",
            "1 * 3 = 3\n",
            "1 * 4 = 4\n",
            "1 * 5 = 5\n",
            "1 * 6 = 6\n",
            "1 * 7 = 7\n",
            "1 * 8 = 8\n",
            "1 * 9 = 9\n",
            "--------------------------------------------------\n",
            "2 * 1 = 2\n",
            "2 * 2 = 4\n",
            "2 * 3 = 6\n",
            "2 * 4 = 8\n",
            "2 * 5 = 10\n",
            "2 * 6 = 12\n",
            "2 * 7 = 14\n",
            "2 * 8 = 16\n",
            "2 * 9 = 18\n",
            "--------------------------------------------------\n",
            "3 * 1 = 3\n",
            "3 * 2 = 6\n",
            "3 * 3 = 9\n",
            "3 * 4 = 12\n",
            "3 * 5 = 15\n",
            "3 * 6 = 18\n",
            "3 * 7 = 21\n",
            "3 * 8 = 24\n",
            "3 * 9 = 27\n",
            "--------------------------------------------------\n",
            "4 * 1 = 4\n",
            "4 * 2 = 8\n",
            "4 * 3 = 12\n",
            "4 * 4 = 16\n",
            "4 * 5 = 20\n",
            "4 * 6 = 24\n",
            "4 * 7 = 28\n",
            "4 * 8 = 32\n",
            "4 * 9 = 36\n",
            "--------------------------------------------------\n",
            "5 * 1 = 5\n",
            "5 * 2 = 10\n",
            "5 * 3 = 15\n",
            "5 * 4 = 20\n",
            "5 * 5 = 25\n",
            "5 * 6 = 30\n",
            "5 * 7 = 35\n",
            "5 * 8 = 40\n",
            "5 * 9 = 45\n",
            "--------------------------------------------------\n",
            "6 * 1 = 6\n",
            "6 * 2 = 12\n",
            "6 * 3 = 18\n",
            "6 * 4 = 24\n",
            "6 * 5 = 30\n",
            "6 * 6 = 36\n",
            "6 * 7 = 42\n",
            "6 * 8 = 48\n",
            "6 * 9 = 54\n",
            "--------------------------------------------------\n",
            "7 * 1 = 7\n",
            "7 * 2 = 14\n",
            "7 * 3 = 21\n",
            "7 * 4 = 28\n",
            "7 * 5 = 35\n",
            "7 * 6 = 42\n",
            "7 * 7 = 49\n",
            "7 * 8 = 56\n",
            "7 * 9 = 63\n",
            "--------------------------------------------------\n",
            "8 * 1 = 8\n",
            "8 * 2 = 16\n",
            "8 * 3 = 24\n",
            "8 * 4 = 32\n",
            "8 * 5 = 40\n",
            "8 * 6 = 48\n",
            "8 * 7 = 56\n",
            "8 * 8 = 64\n",
            "8 * 9 = 72\n",
            "--------------------------------------------------\n",
            "9 * 1 = 9\n",
            "9 * 2 = 18\n",
            "9 * 3 = 27\n",
            "9 * 4 = 36\n",
            "9 * 5 = 45\n",
            "9 * 6 = 54\n",
            "9 * 7 = 63\n",
            "9 * 8 = 72\n",
            "9 * 9 = 81\n",
            "--------------------------------------------------\n"
          ]
        }
      ]
    },
    {
      "cell_type": "code",
      "source": [
        "#class\n",
        "class MyClass:\n",
        "  x = 5\n",
        "\n",
        "c1 = MyClass ()\n",
        "print (c1.x)"
      ],
      "metadata": {
        "colab": {
          "base_uri": "https://localhost:8080/"
        },
        "id": "9363YlDxCz_w",
        "outputId": "e2009833-a877-4e88-f667-16ad453b5f57"
      },
      "execution_count": null,
      "outputs": [
        {
          "output_type": "stream",
          "name": "stdout",
          "text": [
            "5\n"
          ]
        }
      ]
    },
    {
      "cell_type": "code",
      "source": [
        "from typing_extensions import AsyncGenerator\n",
        "#class\n",
        "class Person:\n",
        "  def _init_(self, name, age):\n",
        "    self.name = name\n",
        "    self.age = age\n",
        "  p1 = Person('Alan', 20)\n",
        "  print(p1.name, p1.age)"
      ],
      "metadata": {
        "colab": {
          "base_uri": "https://localhost:8080/"
        },
        "id": "E5nZSEERD3Su",
        "outputId": "0d71c7dd-ad55-449d-ad04-e6fb05596a5f"
      },
      "execution_count": null,
      "outputs": [
        {
          "output_type": "stream",
          "name": "stdout",
          "text": [
            "Alan 20\n"
          ]
        }
      ]
    },
    {
      "cell_type": "code",
      "source": [
        "#class vehicle\n",
        "class Vehicle:\n",
        "  name = \"\"\n",
        "  kind = \"car\"\n",
        "  color = \"\"\n",
        "  value = 100.0\n",
        "\n",
        "  def __init__(self):\n",
        "    pass\n",
        "\n",
        "  def description(self):\n",
        "    desc_str = f'{self.name} is a {self.color} {self.kind} worth ${self.value:}'\n",
        "    return desc_str\n",
        "\n",
        "car1 = Vehicle()\n",
        "car1.name = \"Fer\"\n",
        "car1.kind = \"convertible\"\n",
        "car1.color = \"red\"\n",
        "car1.value = 60000.0\n",
        "\n",
        "car2 = Vehicle ()\n",
        "print(car1.description())"
      ],
      "metadata": {
        "colab": {
          "base_uri": "https://localhost:8080/"
        },
        "id": "6jJDF5noFYlV",
        "outputId": "56c93c2e-7da0-4431-95a5-c4622d15ae01"
      },
      "execution_count": null,
      "outputs": [
        {
          "output_type": "stream",
          "name": "stdout",
          "text": [
            "Fer is a red convertible worth $60000.0\n"
          ]
        }
      ]
    },
    {
      "cell_type": "code",
      "source": [
        "#TRY, EXCEPT & FILE HANDILING\n",
        "try:\n",
        "  f = open('aa.txt')\n",
        "except: #neu loi\n",
        "  print('File Error')\n",
        "finally:\n",
        "  print('Final')"
      ],
      "metadata": {
        "colab": {
          "base_uri": "https://localhost:8080/"
        },
        "id": "WI0ZuHgHJiW9",
        "outputId": "b85b3721-c954-4ad3-a4be-942876a8cca4"
      },
      "execution_count": null,
      "outputs": [
        {
          "output_type": "stream",
          "name": "stdout",
          "text": [
            "File Error\n",
            "Final\n"
          ]
        }
      ]
    },
    {
      "cell_type": "code",
      "source": [
        "!ls / content/drive/MyDrive/"
      ],
      "metadata": {
        "colab": {
          "base_uri": "https://localhost:8080/"
        },
        "id": "wsbS1ucYJ-DR",
        "outputId": "c953f949-3346-4397-cec0-31c3f1ffa351"
      },
      "execution_count": null,
      "outputs": [
        {
          "output_type": "stream",
          "name": "stdout",
          "text": [
            "ls: cannot access 'content/drive/MyDrive/': No such file or directory\n",
            "/:\n",
            "bin\t\t\t    kaggle\t\t      opt\t\t sys\n",
            "boot\t\t\t    lib\t\t\t      proc\t\t tmp\n",
            "content\t\t\t    lib32\t\t      python-apt\t tools\n",
            "cuda-keyring_1.1-1_all.deb  lib64\t\t      python-apt.tar.xz  usr\n",
            "datalab\t\t\t    libx32\t\t      root\t\t var\n",
            "dev\t\t\t    media\t\t      run\n",
            "etc\t\t\t    mnt\t\t\t      sbin\n",
            "home\t\t\t    NGC-DL-CONTAINER-LICENSE  srv\n"
          ]
        }
      ]
    }
  ]
}